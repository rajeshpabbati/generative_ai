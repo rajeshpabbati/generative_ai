{
  "cells": [
    {
      "cell_type": "code",
      "execution_count": 31,
      "id": "698a812f-ae5a-485f-ac05-726e95bba795",
      "metadata": {
        "id": "698a812f-ae5a-485f-ac05-726e95bba795"
      },
      "outputs": [],
      "source": [
        "# Import necessary libraries\n",
        "from transformers import pipeline"
      ]
    },
    {
      "cell_type": "code",
      "source": [
        "# Load a pre-trained distilBERT model and tokenizer for text classification\n",
        "classifier = pipeline('text-classification', model='distilbert-base-uncased-finetuned-sst-2-english')"
      ],
      "metadata": {
        "id": "CEnZCzE6TIis"
      },
      "id": "CEnZCzE6TIis",
      "execution_count": 32,
      "outputs": []
    },
    {
      "cell_type": "code",
      "source": [
        "texts = [\n",
        "    \"I love this movie! It was fantastic and well done.\",\n",
        "    \"This was a terrible experience, I hated every minute of it.\",\n",
        "    \"The book was quite interesting, though it had a few flaws.\",\n",
        "    \"The service at the restaurant was top-notch!\"\n",
        "]"
      ],
      "metadata": {
        "id": "KEODGmuZTJ80"
      },
      "id": "KEODGmuZTJ80",
      "execution_count": 33,
      "outputs": []
    },
    {
      "cell_type": "code",
      "source": [
        "# Make predictions\n",
        "predictions = classifier(texts)"
      ],
      "metadata": {
        "id": "05ZSBTnyTQ1A"
      },
      "id": "05ZSBTnyTQ1A",
      "execution_count": 34,
      "outputs": []
    },
    {
      "cell_type": "code",
      "source": [
        "# Output predictions\n",
        "for i, prediction in enumerate(predictions):\n",
        "    print(f\"Text: {texts[i]}\")\n",
        "    print(f\"Label: {prediction['label']}, Confidence: {prediction['score']:.4f}\\n\")"
      ],
      "metadata": {
        "colab": {
          "base_uri": "https://localhost:8080/"
        },
        "id": "BxliTg-FTYrY",
        "outputId": "2d5dc097-a7fb-4bd3-d7de-ebf96dab983e"
      },
      "id": "BxliTg-FTYrY",
      "execution_count": 35,
      "outputs": [
        {
          "output_type": "stream",
          "name": "stdout",
          "text": [
            "Text: I love this movie! It was fantastic and well done.\n",
            "Label: POSITIVE, Confidence: 0.9999\n",
            "\n",
            "Text: This was a terrible experience, I hated every minute of it.\n",
            "Label: NEGATIVE, Confidence: 0.9992\n",
            "\n",
            "Text: The book was quite interesting, though it had a few flaws.\n",
            "Label: POSITIVE, Confidence: 0.9938\n",
            "\n",
            "Text: The service at the restaurant was top-notch!\n",
            "Label: POSITIVE, Confidence: 0.9997\n",
            "\n"
          ]
        }
      ]
    },
    {
      "cell_type": "code",
      "source": [],
      "metadata": {
        "id": "-9Tm1tdCVn9r"
      },
      "id": "-9Tm1tdCVn9r",
      "execution_count": 35,
      "outputs": []
    }
  ],
  "metadata": {
    "kernelspec": {
      "display_name": "Python 3 (ipykernel)",
      "language": "python",
      "name": "python3"
    },
    "language_info": {
      "codemirror_mode": {
        "name": "ipython",
        "version": 3
      },
      "file_extension": ".py",
      "mimetype": "text/x-python",
      "name": "python",
      "nbconvert_exporter": "python",
      "pygments_lexer": "ipython3",
      "version": "3.11.7"
    },
    "colab": {
      "provenance": []
    }
  },
  "nbformat": 4,
  "nbformat_minor": 5
}