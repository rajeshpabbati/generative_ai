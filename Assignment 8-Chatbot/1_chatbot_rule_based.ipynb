{
  "nbformat": 4,
  "nbformat_minor": 0,
  "metadata": {
    "colab": {
      "provenance": []
    },
    "kernelspec": {
      "name": "python3",
      "display_name": "Python 3"
    },
    "language_info": {
      "name": "python"
    }
  },
  "cells": [
    {
      "cell_type": "code",
      "execution_count": 1,
      "metadata": {
        "id": "Qhr8Ee-YX730"
      },
      "outputs": [],
      "source": [
        "import time\n",
        "import random"
      ]
    },
    {
      "cell_type": "code",
      "source": [
        "# Function to greet the user\n",
        "def greet_user():\n",
        "    greetings = [\"Hello! How can I assist you today?\", \"Hi there! What can I do for you?\", \"Greetings! How may I help you today?\"]\n",
        "    return random.choice(greetings)"
      ],
      "metadata": {
        "id": "uNTzRG7oYCMV"
      },
      "execution_count": 2,
      "outputs": []
    },
    {
      "cell_type": "code",
      "source": [
        "# Function to tell the current time\n",
        "def tell_time():\n",
        "    current_time = time.strftime(\"%I:%M %p\")\n",
        "    return f\"The current time is {current_time}.\""
      ],
      "metadata": {
        "id": "xOGP39dsZMJ0"
      },
      "execution_count": 3,
      "outputs": []
    },
    {
      "cell_type": "code",
      "source": [
        "# Function to tell a joke\n",
        "def tell_joke():\n",
        "    jokes = [\n",
        "        \"Why don't scientists trust atoms? Because they make up everything!\",\n",
        "        \"Why was the math book sad? It had too many problems.\",\n",
        "        \"Why do cows wear bells? Because their horns don't work!\"\n",
        "    ]\n",
        "    return random.choice(jokes)"
      ],
      "metadata": {
        "id": "WK9D29uhZPho"
      },
      "execution_count": 4,
      "outputs": []
    },
    {
      "cell_type": "code",
      "source": [
        "# Main function to handle user input\n",
        "def chatbot():\n",
        "    print(\"Welcome to the Rule-based Chatbot!\")\n",
        "    print(\"You can ask for a greeting, time, or a joke.\")\n",
        "\n",
        "    while True:\n",
        "        user_input = input(\"You: \").lower()\n",
        "\n",
        "        if \"hello\" in user_input or \"hi\" in user_input or \"greet\" in user_input:\n",
        "            print(\"Chatbot:\", greet_user())\n",
        "        elif \"time\" in user_input:\n",
        "            print(\"Chatbot:\", tell_time())\n",
        "        elif \"joke\" in user_input:\n",
        "            print(\"Chatbot:\", tell_joke())\n",
        "        elif \"bye\" in user_input or \"exit\" in user_input:\n",
        "            print(\"Chatbot: Goodbye! Have a nice day!\")\n",
        "            break\n",
        "        else:\n",
        "            print(\"Chatbot: I'm sorry, I don't understand that. Please ask for a greeting, the time, or a joke.\")\n",
        "\n",
        "# Start the chatbot\n",
        "chatbot()"
      ],
      "metadata": {
        "colab": {
          "base_uri": "https://localhost:8080/"
        },
        "id": "BZnR2UhtZGiM",
        "outputId": "0818f745-0a1a-42d4-a5b0-81630cd73ba6"
      },
      "execution_count": 5,
      "outputs": [
        {
          "output_type": "stream",
          "name": "stdout",
          "text": [
            "Welcome to the Rule-based Chatbot!\n",
            "You can ask for a greeting, time, or a joke.\n",
            "You: greeting\n",
            "Chatbot: Greetings! How may I help you today?\n",
            "You: hi\n",
            "Chatbot: Hi there! What can I do for you?\n",
            "You: hello\n",
            "Chatbot: Hello! How can I assist you today?\n",
            "You: time\n",
            "Chatbot: The current time is 04:53 PM.\n",
            "You: joke\n",
            "Chatbot: Why do cows wear bells? Because their horns don't work!\n",
            "You: joke\n",
            "Chatbot: Why was the math book sad? It had too many problems.\n",
            "You: bye\n",
            "Chatbot: Goodbye! Have a nice day!\n"
          ]
        }
      ]
    },
    {
      "cell_type": "code",
      "source": [],
      "metadata": {
        "id": "HLwtH2x3Z3GP"
      },
      "execution_count": null,
      "outputs": []
    }
  ]
}