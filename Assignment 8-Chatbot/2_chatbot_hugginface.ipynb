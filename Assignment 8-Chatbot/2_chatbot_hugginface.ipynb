{
  "nbformat": 4,
  "nbformat_minor": 0,
  "metadata": {
    "colab": {
      "provenance": []
    },
    "kernelspec": {
      "name": "python3",
      "display_name": "Python 3"
    },
    "language_info": {
      "name": "python"
    }
  },
  "cells": [
    {
      "cell_type": "code",
      "source": [
        "#!pip install pyjokes"
      ],
      "metadata": {
        "colab": {
          "base_uri": "https://localhost:8080/"
        },
        "id": "loMb5MUSbCJ2",
        "outputId": "e7d763fd-c7e5-4780-a7f3-9ff8ae26e357"
      },
      "execution_count": 11,
      "outputs": [
        {
          "output_type": "stream",
          "name": "stdout",
          "text": [
            "Requirement already satisfied: pyjokes in /usr/local/lib/python3.10/dist-packages (0.8.3)\n"
          ]
        }
      ]
    },
    {
      "cell_type": "code",
      "source": [
        "from transformers import pipeline\n",
        "from datetime import datetime\n",
        "import pyjokes"
      ],
      "metadata": {
        "id": "1pCx1dVDa9FO"
      },
      "execution_count": 12,
      "outputs": []
    },
    {
      "cell_type": "code",
      "source": [
        "# Initialize the BART model for NLI (Natural Language Inference)\n",
        "nli_model = pipeline(\"zero-shot-classification\", model=\"facebook/bart-large-mnli\")"
      ],
      "metadata": {
        "id": "F0Ft3u5ybG84"
      },
      "execution_count": 13,
      "outputs": []
    },
    {
      "cell_type": "code",
      "source": [
        "# Function to greet the user\n",
        "def greet_user():\n",
        "    return \"Hello! I'm your friendly chatbot. How can I assist you today?\""
      ],
      "metadata": {
        "id": "V89ZpwDZbG49"
      },
      "execution_count": 14,
      "outputs": []
    },
    {
      "cell_type": "code",
      "source": [
        "# Function to get the current time\n",
        "def tell_time():\n",
        "    now = datetime.now()\n",
        "    current_time = now.strftime(\"%H:%M:%S\")\n",
        "    return f\"The current time is {current_time}.\""
      ],
      "metadata": {
        "id": "WcgvGP5tbG1c"
      },
      "execution_count": 15,
      "outputs": []
    },
    {
      "cell_type": "code",
      "source": [
        "# Function to tell a joke\n",
        "def tell_joke():\n",
        "    return pyjokes.get_joke()"
      ],
      "metadata": {
        "id": "85eSwoXrbGyb"
      },
      "execution_count": 16,
      "outputs": []
    },
    {
      "cell_type": "code",
      "execution_count": 17,
      "metadata": {
        "colab": {
          "base_uri": "https://localhost:8080/"
        },
        "id": "kVVY8gO7an0x",
        "outputId": "e8d1dee0-814b-464b-d4e7-0d87f7a5f50d"
      },
      "outputs": [
        {
          "output_type": "stream",
          "name": "stdout",
          "text": [
            "You: tell me a joke\n",
            "Chatbot: Unix is user friendly. It's just very particular about who its friends are.\n"
          ]
        }
      ],
      "source": [
        "# Chatbot function\n",
        "def chatbot(user_input):\n",
        "    # Predefined intents for the chatbot to classify\n",
        "    intents = [\"greet\", \"time\", \"joke\"]\n",
        "\n",
        "    # Using the NLI model to classify the user's input\n",
        "    result = nli_model(user_input, intents)\n",
        "    predicted_intent = result['labels'][0]\n",
        "\n",
        "    # Handle responses based on the predicted intent\n",
        "    if predicted_intent == \"greet\":\n",
        "        return greet_user()\n",
        "    elif predicted_intent == \"time\":\n",
        "        return tell_time()\n",
        "    elif predicted_intent == \"joke\":\n",
        "        return tell_joke()\n",
        "    else:\n",
        "        return \"Sorry, I didn't understand that. Can you try asking something else?\"\n",
        "\n",
        "# Example Interaction with the chatbot\n",
        "if __name__ == \"__main__\":\n",
        "    user_input = input(\"You: \")\n",
        "    response = chatbot(user_input)\n",
        "    print(f\"Chatbot: {response}\")"
      ]
    },
    {
      "cell_type": "code",
      "source": [],
      "metadata": {
        "id": "99AvX1VqayxI"
      },
      "execution_count": 17,
      "outputs": []
    }
  ]
}